{
 "cells": [
  {
   "cell_type": "markdown",
   "metadata": {},
   "source": [
    "## Parameters to adjust"
   ]
  },
  {
   "cell_type": "code",
   "execution_count": 1,
   "metadata": {
    "collapsed": false
   },
   "outputs": [],
   "source": [
    "zero_band = 0.14 # 0.15\n",
    "translate = 0.0015 # 0.0015\n",
    "steering_coefficient = 0.06 # 0.07"
   ]
  },
  {
   "cell_type": "markdown",
   "metadata": {},
   "source": [
    "## Load Images File"
   ]
  },
  {
   "cell_type": "code",
   "execution_count": 2,
   "metadata": {
    "collapsed": false
   },
   "outputs": [],
   "source": [
    "import csv\n",
    "import numpy as np\n",
    "import random\n",
    "import os\n",
    "import pandas as pd\n",
    "\n",
    "list_images = list()\n",
    "path = 'data'\n",
    "with open(path + '\\driving_log.csv', 'r') as csvfile:\n",
    "    reader = csv.reader(csvfile)\n",
    "    next(reader)\n",
    "    for row in reader:\n",
    "        center = row[0].strip()\n",
    "        left = row[1].strip()\n",
    "        right = row[2].strip()\n",
    "        steering = float(row[3])\n",
    "        throttle = float(row[4])\n",
    "        brake = float(row[5])\n",
    "        speed = float(row[6])\n",
    "\n",
    "        if steering == 0:\n",
    "            if (np.random.rand() <= zero_band):\n",
    "                list_images.append([center, left, right, steering, throttle, brake, speed])\n",
    "        else:\n",
    "            list_images.append([center, left, right, steering, throttle, brake, speed])"
   ]
  },
  {
   "cell_type": "markdown",
   "metadata": {},
   "source": [
    "### Ploting histogram"
   ]
  },
  {
   "cell_type": "code",
   "execution_count": 3,
   "metadata": {
    "collapsed": false
   },
   "outputs": [
    {
     "data": {
      "image/png": "[encoded data removed]",
      "text/plain": [
       "<matplotlib.figure.Figure at 0xae74f98e80>"
      ]
     },
     "metadata": {},
     "output_type": "display_data"
    }
   ],
   "source": [
    "import matplotlib.pyplot as plt\n",
    "%matplotlib inline\n",
    "\n",
    "histogram = [x[3] for x in list_images]\n",
    "\n",
    "plt.hist(histogram, bins = 40, facecolor='blue', edgecolor = \"black\");\n",
    "plt.xlabel('Steering angle');\n",
    "plt.ylabel('Frequency');\n",
    "plt.title('Histogram of recorded steering angles');"
   ]
  },
  {
   "cell_type": "markdown",
   "metadata": {},
   "source": [
    "## Image Augmentation"
   ]
  },
  {
   "cell_type": "code",
   "execution_count": 4,
   "metadata": {
    "collapsed": false
   },
   "outputs": [],
   "source": [
    "import cv2\n",
    "from PIL import Image\n",
    "import matplotlib.pyplot as plt\n",
    "import os\n",
    "import numpy as np\n",
    "import random\n",
    "\n",
    "def flip_image(img, steering):\n",
    "    if random.randint(0, 1):\n",
    "        return cv2.flip(img, 1), -steering\n",
    "    else:\n",
    "        return img, steering\n",
    "\n",
    "def brightness_image(img, steering):\n",
    "    hsv = cv2.cvtColor(img, cv2.COLOR_RGB2HSV)\n",
    "    hsv[:,:,2] = hsv[:,:,2] * (1 + np.random.uniform(-0.6, 0.2))\n",
    "    return cv2.cvtColor(hsv, cv2.COLOR_HSV2RGB), steering\n",
    "\n",
    "def rotate_image(img, steering):\n",
    "    rows,cols,channel = img.shape\n",
    "    M = cv2.getRotationMatrix2D((cols/2,rows/2), random.uniform(-3, 3), 1)\n",
    "    return cv2.warpAffine(img,M,(cols,rows), borderMode=1), steering\n",
    "\n",
    "def crop_image(img):\n",
    "    return img[60:136, :, :]\n",
    "\n",
    "def translate_image(img, steering, horz_range=30, vert_range=5):\n",
    "    rows, cols, chs = img.shape\n",
    "    tx = np.random.randint(-horz_range, horz_range+1)\n",
    "    ty = np.random.randint(-vert_range, vert_range+1)\n",
    "    steering = steering + tx * translate\n",
    "    tr_M = np.float32([[1,0,tx], [0,1,ty]])\n",
    "    img = cv2.warpAffine(img, tr_M, (cols,rows), borderMode=1)\n",
    "    return img, steering\n",
    "\n",
    "def shadow_image(img, steering):\n",
    "    rows, cols, chs = img.shape\n",
    "    \n",
    "    # Generate a separate buffer\n",
    "    shadows = img.copy()\n",
    "\n",
    "    randomUp = int(random.random() * cols)\n",
    "    randomDown = int(random.random() * cols)\n",
    "    \n",
    "    if random.randint(0, 1):\n",
    "        poly = [[randomUp,0],[cols,0],[cols,rows], [randomDown,rows]]\n",
    "    else:\n",
    "        poly = [[randomUp,0],[0,0],[0,rows], [randomDown,0]]\n",
    "        \n",
    "    cv2.fillPoly(shadows, np.array([poly]), -1)\n",
    "\n",
    "    alpha = np.random.uniform(0.6, 0.9)\n",
    "    return cv2.addWeighted(shadows, alpha, img, 1-alpha,0,img), steering\n",
    "\n",
    "def shear_image(image, steering_angle, shear_range=200):\n",
    "    if random.randint(0, 1):\n",
    "        rows, cols, ch = image.shape\n",
    "        dx = np.random.randint(-shear_range, shear_range + 1)\n",
    "        random_point = [cols / 2 + dx, rows / 2]\n",
    "        pts1 = np.float32([[0, rows], [cols, rows], [cols / 2, rows / 2]])\n",
    "        pts2 = np.float32([[0, rows], [cols, rows], random_point])\n",
    "        dsteering = dx / (rows / 2) * 360 / (2 * np.pi * 25.0) / 6.0\n",
    "        M = cv2.getAffineTransform(pts1, pts2)\n",
    "        image = cv2.warpAffine(image, M, (cols, rows), borderMode=1)\n",
    "        steering_angle += dsteering\n",
    "\n",
    "    return image, steering_angle"
   ]
  },
  {
   "cell_type": "markdown",
   "metadata": {},
   "source": [
    "## Neural network implementation\n",
    "Bellow is implemented the CNN from [CommaAI](https://github.com/commaai/research/blob/master/train_steering_model.py) and [NVIDIA](https://arxiv.org/pdf/1604.07316v1.pdf) architecture."
   ]
  },
  {
   "cell_type": "code",
   "execution_count": 5,
   "metadata": {
    "collapsed": false
   },
   "outputs": [
    {
     "name": "stderr",
     "output_type": "stream",
     "text": [
      "Using TensorFlow backend.\n"
     ]
    },
    {
     "name": "stdout",
     "output_type": "stream",
     "text": [
      "____________________________________________________________________________________________________\n",
      "Layer (type)                     Output Shape          Param #     Connected to                     \n",
      "====================================================================================================\n",
      "lambda_1 (Lambda)                (None, 64, 64, 3)     0           lambda_input_1[0][0]             \n",
      "____________________________________________________________________________________________________\n",
      "convolution2d_1 (Convolution2D)  (None, 16, 16, 16)    3088        lambda_1[0][0]                   \n",
      "____________________________________________________________________________________________________\n",
      "elu_1 (ELU)                      (None, 16, 16, 16)    0           convolution2d_1[0][0]            \n",
      "____________________________________________________________________________________________________\n",
      "convolution2d_2 (Convolution2D)  (None, 8, 8, 32)      12832       elu_1[0][0]                      \n",
      "____________________________________________________________________________________________________\n",
      "elu_2 (ELU)                      (None, 8, 8, 32)      0           convolution2d_2[0][0]            \n",
      "____________________________________________________________________________________________________\n",
      "convolution2d_3 (Convolution2D)  (None, 4, 4, 64)      51264       elu_2[0][0]                      \n",
      "____________________________________________________________________________________________________\n",
      "flatten_1 (Flatten)              (None, 1024)          0           convolution2d_3[0][0]            \n",
      "____________________________________________________________________________________________________\n",
      "dropout_1 (Dropout)              (None, 1024)          0           flatten_1[0][0]                  \n",
      "____________________________________________________________________________________________________\n",
      "elu_3 (ELU)                      (None, 1024)          0           dropout_1[0][0]                  \n",
      "____________________________________________________________________________________________________\n",
      "dense_1 (Dense)                  (None, 512)           524800      elu_3[0][0]                      \n",
      "____________________________________________________________________________________________________\n",
      "dropout_2 (Dropout)              (None, 512)           0           dense_1[0][0]                    \n",
      "____________________________________________________________________________________________________\n",
      "elu_4 (ELU)                      (None, 512)           0           dropout_2[0][0]                  \n",
      "____________________________________________________________________________________________________\n",
      "dense_2 (Dense)                  (None, 1)             513         elu_4[0][0]                      \n",
      "====================================================================================================\n",
      "Total params: 592,497\n",
      "Trainable params: 592,497\n",
      "Non-trainable params: 0\n",
      "____________________________________________________________________________________________________\n",
      "None\n"
     ]
    }
   ],
   "source": [
    "from keras.models import Sequential\n",
    "from keras.layers import Dense, Convolution2D, Flatten, Activation, MaxPooling2D, Dropout, Lambda, ELU\n",
    "from keras.optimizers import Adam\n",
    "from keras.layers.normalization import BatchNormalization\n",
    "from keras.utils.visualize_util import plot\n",
    "\n",
    "# Input layer shape\n",
    "ch, row, col = 3, 64, 64\n",
    "\n",
    "def model_nv():\n",
    "    model = Sequential()\n",
    "    \n",
    "    model.add(Lambda(lambda x: x/127.5 - 1.,\n",
    "            input_shape=(col,row,ch),\n",
    "            output_shape=(col,row,ch)))\n",
    "    \n",
    "    model.add(Convolution2D(24, 5, 5, subsample=(2, 2), border_mode=\"same\"))\n",
    "    model.add(Activation('elu'))\n",
    "    model.add(MaxPooling2D(pool_size=(2, 2), strides=(1, 1)))\n",
    "\n",
    "    model.add(Convolution2D(36, 5, 5, subsample=(2, 2), border_mode=\"same\"))\n",
    "    model.add(Activation('elu'))\n",
    "    model.add(MaxPooling2D(pool_size=(2, 2), strides=(1, 1)))\n",
    "\n",
    "    model.add(Convolution2D(48, 5, 5, subsample=(2, 2), border_mode=\"same\"))\n",
    "    model.add(Activation('elu'))\n",
    "    model.add(MaxPooling2D(pool_size=(2, 2), strides=(1, 1)))\n",
    "\n",
    "    model.add(Convolution2D(64, 3, 3, border_mode=\"same\"))\n",
    "    model.add(Activation('elu'))\n",
    "    model.add(MaxPooling2D(pool_size=(2, 2), strides=(1, 1)))\n",
    "\n",
    "    model.add(Convolution2D(64, 3, 3, border_mode=\"same\"))\n",
    "    model.add(Activation('elu'))\n",
    "    model.add(MaxPooling2D(pool_size=(2, 2), strides=(1, 1)))\n",
    "\n",
    "    model.add(Flatten())\n",
    "    model.add(Dropout(.2))\n",
    "    model.add(Activation('elu'))\n",
    "    model.add(Dense(1164))\n",
    "    model.add(Dropout(.5))\n",
    "    model.add(Activation('elu'))\n",
    "    model.add(Dense(100))\n",
    "    model.add(Dropout(.5))\n",
    "    model.add(Activation('elu'))\n",
    "    model.add(Dense(50))\n",
    "    model.add(Dropout(.5))\n",
    "    model.add(Activation('elu'))\n",
    "    model.add(Dense(10))\n",
    "    model.add(Dropout(.5))\n",
    "    model.add(Activation('elu'))\n",
    "    model.add(Dense(1))\n",
    "    \n",
    "    plot(model, show_shapes=True, to_file='images/nv.png')\n",
    "    \n",
    "    return model\n",
    "\n",
    "def model_comma():\n",
    "    model = Sequential()\n",
    "\n",
    "    model.add(Lambda(lambda x: x/127.5 - 1.,\n",
    "            input_shape=(col,row,ch),\n",
    "            output_shape=(col,row,ch)))\n",
    "    \n",
    "    model.add(Convolution2D(16, 8, 8, subsample=(4, 4), border_mode=\"same\"))\n",
    "    model.add(ELU())\n",
    "    \n",
    "    model.add(Convolution2D(32, 5, 5, subsample=(2, 2), border_mode=\"same\"))\n",
    "    model.add(ELU())\n",
    "    \n",
    "    model.add(Convolution2D(64, 5, 5, subsample=(2, 2), border_mode=\"same\"))\n",
    "    \n",
    "    model.add(Flatten())\n",
    "    model.add(Dropout(.2))\n",
    "    model.add(ELU())\n",
    "    model.add(Dense(512))\n",
    "    model.add(Dropout(.5))\n",
    "    model.add(ELU())\n",
    "    model.add(Dense(1))\n",
    "    \n",
    "    plot(model, show_shapes=True, to_file='images/comma.png')\n",
    "    \n",
    "    return model\n",
    "\n",
    "model = model_comma()\n",
    "print(model.summary())"
   ]
  },
  {
   "cell_type": "markdown",
   "metadata": {},
   "source": [
    "## Training and validation split"
   ]
  },
  {
   "cell_type": "code",
   "execution_count": 6,
   "metadata": {
    "collapsed": false
   },
   "outputs": [
    {
     "name": "stdout",
     "output_type": "stream",
     "text": [
      "Train set = 2972\n",
      "Validation set = 1275\n"
     ]
    }
   ],
   "source": [
    "from sklearn.utils import shuffle\n",
    "from sklearn.model_selection import train_test_split\n",
    "\n",
    "# Shuffle list\n",
    "list_images = shuffle(list_images)\n",
    "\n",
    "# Split testing set\n",
    "train_set, valid_set = train_test_split(list_images, test_size=0.3, random_state=0)\n",
    "\n",
    "print(\"Train set =\", len(train_set))\n",
    "print(\"Validation set =\", len(valid_set))"
   ]
  },
  {
   "cell_type": "markdown",
   "metadata": {},
   "source": [
    "## Load the data\n",
    "Function to load the data given a list of images and the indices that need to be loaded. The data is only load to the memory when the generator asks."
   ]
  },
  {
   "cell_type": "code",
   "execution_count": 7,
   "metadata": {
    "collapsed": false
   },
   "outputs": [],
   "source": [
    "import matplotlib.image as mpimg\n",
    "\n",
    "def load_data_batch(data, indices):\n",
    "    # Placeholders for the images and labels from web\n",
    "    X = list()\n",
    "    y = list()\n",
    "\n",
    "    for i in indices:\n",
    "        rnd = np.random.randint(0, 3)\n",
    "        image = plt.imread(path + \"\\\\\" + data[i][rnd])\n",
    "        steering = data[i][3]\n",
    "        \n",
    "        if rnd == 1:\n",
    "            steering += steering_coefficient\n",
    "        elif rnd == 2:\n",
    "            steering -= steering_coefficient\n",
    "            \n",
    "        if abs(steering) > 1:\n",
    "            steering = -1 if (steering < 0) else 1\n",
    "\n",
    "        X.append(image)\n",
    "        y.append(steering)\n",
    "\n",
    "    return X, y"
   ]
  },
  {
   "cell_type": "markdown",
   "metadata": {},
   "source": [
    "## Generator function\n",
    "Return the images and steering values needed to the batch."
   ]
  },
  {
   "cell_type": "code",
   "execution_count": 8,
   "metadata": {
    "collapsed": false
   },
   "outputs": [],
   "source": [
    "def myGenerator(samples, batch_size, augment=True):\n",
    "    while True:\n",
    "        X_batch = []\n",
    "        y_batch = []\n",
    "        \n",
    "        indices = np.random.randint(0, len(samples), batch_size)\n",
    "        \n",
    "        X, y = load_data_batch(samples, indices)\n",
    "\n",
    "        for i in range(batch_size):\n",
    "            image = X[i]\n",
    "            angle = y[i]\n",
    "            \n",
    "            if augment:\n",
    "                image, angle = shear_image(image, angle)\n",
    "                image, angle = brightness_image(image, angle)\n",
    "                image, angle = translate_image(image, angle)\n",
    "                image, angle = rotate_image(image, angle)\n",
    "                image, angle = shadow_image(image, angle)\n",
    "                image, angle = flip_image(image, angle)\n",
    "            \n",
    "            image = crop_image(image)\n",
    "            image = cv2.resize(image,(64, 64), interpolation = cv2.INTER_AREA)\n",
    "\n",
    "            X_batch.append(image)\n",
    "            y_batch.append(angle)\n",
    "\n",
    "        yield np.array(X_batch), np.array(y_batch)"
   ]
  },
  {
   "cell_type": "markdown",
   "metadata": {},
   "source": [
    "## Neural network training"
   ]
  },
  {
   "cell_type": "code",
   "execution_count": 9,
   "metadata": {
    "collapsed": false,
    "scrolled": false
   },
   "outputs": [
    {
     "name": "stdout",
     "output_type": "stream",
     "text": [
      "Epoch 1/20\n",
      "138s - loss: 0.1675 - val_loss: 0.1408\n",
      "Epoch 2/20\n",
      "126s - loss: 0.1377 - val_loss: 0.1126\n",
      "Epoch 3/20\n",
      "124s - loss: 0.1132 - val_loss: 0.0989\n",
      "Epoch 4/20\n",
      "123s - loss: 0.0854 - val_loss: 0.0784\n",
      "Epoch 5/20\n",
      "123s - loss: 0.0648 - val_loss: 0.0681\n",
      "Epoch 6/20\n",
      "123s - loss: 0.0595 - val_loss: 0.0590\n",
      "Epoch 7/20\n",
      "123s - loss: 0.0526 - val_loss: 0.0801\n",
      "Epoch 8/20\n",
      "123s - loss: 0.0527 - val_loss: 0.0568\n",
      "Epoch 9/20\n",
      "123s - loss: 0.0495 - val_loss: 0.0798\n",
      "Epoch 10/20\n",
      "123s - loss: 0.0469 - val_loss: 0.0623\n",
      "Epoch 11/20\n",
      "\n",
      "Epoch 00010: reducing learning rate to 0.00010000000474974513.\n",
      "123s - loss: 0.0457 - val_loss: 0.0688\n",
      "Epoch 12/20\n",
      "124s - loss: 0.0361 - val_loss: 0.0536\n",
      "Epoch 13/20\n",
      "124s - loss: 0.0347 - val_loss: 0.0467\n",
      "Epoch 14/20\n",
      "123s - loss: 0.0349 - val_loss: 0.0444\n",
      "Epoch 15/20\n",
      "125s - loss: 0.0337 - val_loss: 0.0506\n",
      "Epoch 16/20\n",
      "123s - loss: 0.0323 - val_loss: 0.0524\n",
      "Epoch 17/20\n",
      "\n",
      "Epoch 00016: reducing learning rate to 1.0000000474974514e-05.\n",
      "123s - loss: 0.0319 - val_loss: 0.0498\n",
      "Epoch 18/20\n",
      "124s - loss: 0.0315 - val_loss: 0.0457\n",
      "Epoch 19/20\n",
      "\n",
      "Epoch 00018: reducing learning rate to 1.0000000656873453e-06.\n",
      "123s - loss: 0.0303 - val_loss: 0.0487\n",
      "Epoch 00018: early stopping\n"
     ]
    }
   ],
   "source": [
    "from keras.callbacks import EarlyStopping, ModelCheckpoint, ReduceLROnPlateau\n",
    "\n",
    "model.compile(loss='mean_squared_error', optimizer=Adam(lr=1e-3))\n",
    "\n",
    "early_stopping = EarlyStopping(monitor='val_loss', min_delta=0.000001, patience=4, verbose=1)\n",
    "model_checkpoint = ModelCheckpoint(filepath='model.weights.{epoch:02d}-{val_loss:.5f}.h5', verbose=1, save_best_only=True, save_weights_only=True)\n",
    "learning_rate_plateau_reducer = ReduceLROnPlateau(verbose=1, patience=2, epsilon=1e-5)\n",
    "\n",
    "batch_size= 50\n",
    "samples_epoch_test = 20000\n",
    "samples_epoch_validation = 2000\n",
    "n_epoch = 20\n",
    "\n",
    "fit = model.fit_generator(myGenerator(train_set, batch_size),\n",
    "                          verbose=2, samples_per_epoch=samples_epoch_test,\n",
    "                          nb_epoch=n_epoch,\n",
    "                          callbacks=[learning_rate_plateau_reducer, early_stopping],\n",
    "                          validation_data=myGenerator(valid_set, batch_size),\n",
    "                          nb_val_samples = samples_epoch_validation)"
   ]
  },
  {
   "cell_type": "markdown",
   "metadata": {},
   "source": [
    "## Save model"
   ]
  },
  {
   "cell_type": "code",
   "execution_count": 10,
   "metadata": {
    "collapsed": false
   },
   "outputs": [
    {
     "name": "stdout",
     "output_type": "stream",
     "text": [
      "Model Saved!\n"
     ]
    }
   ],
   "source": [
    "import json\n",
    "\n",
    "model_json = model.to_json()\n",
    "with open ('model.json', 'w') as f:\n",
    "    json.dump(model_json, f, indent=4, sort_keys=True, separators=(',', ':'))\n",
    "\n",
    "model.save_weights('model.h5')\n",
    "\n",
    "print(\"Model Saved!\")"
   ]
  },
  {
   "cell_type": "code",
   "execution_count": null,
   "metadata": {
    "collapsed": true
   },
   "outputs": [],
   "source": []
  }
 ],
 "metadata": {
  "anaconda-cloud": {},
  "kernelspec": {
   "display_name": "Python 3",
   "language": "python",
   "name": "python3"
  },
  "language_info": {
   "codemirror_mode": {
    "name": "ipython",
    "version": 3
   },
   "file_extension": ".py",
   "mimetype": "text/x-python",
   "name": "python",
   "nbconvert_exporter": "python",
   "pygments_lexer": "ipython3",
   "version": "3.5.2"
  }
 },
 "nbformat": 4,
 "nbformat_minor": 2
}
